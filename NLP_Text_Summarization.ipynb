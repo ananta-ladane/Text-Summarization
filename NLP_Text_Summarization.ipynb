{
  "cells": [
    {
      "cell_type": "markdown",
      "metadata": {
        "id": "view-in-github",
        "colab_type": "text"
      },
      "source": [
        "<a href=\"https://colab.research.google.com/github/ananta-ladane/Text-Summarization/blob/main/NLP_Text_Summarization.ipynb\" target=\"_parent\"><img src=\"https://colab.research.google.com/assets/colab-badge.svg\" alt=\"Open In Colab\"/></a>"
      ]
    },
    {
      "cell_type": "code",
      "execution_count": null,
      "metadata": {
        "colab": {
          "background_save": true,
          "base_uri": "https://localhost:8080/"
        },
        "id": "oUncuCMhArL1",
        "outputId": "441a6fe8-c11f-4c61-d36b-ccf2f62d0ea7"
      },
      "outputs": [
        {
          "name": "stderr",
          "output_type": "stream",
          "text": [
            "[nltk_data] Downloading package punkt to /root/nltk_data...\n",
            "[nltk_data]   Unzipping tokenizers/punkt.zip.\n"
          ]
        },
        {
          "name": "stdout",
          "output_type": "stream",
          "text": [
            "\n",
            "--- Original Text ---\n",
            "\n",
            "Artificial Intelligence (AI) refers to the simulation of human intelligence in machines that are programmed to think, learn, and make decisions. These systems can perform tasks such as recognizing speech, translating languages, identifying patterns, and even driving cars. AI is powered by various technologies like machine learning, deep learning, and natural language processing. It enables computers to analyze data, improve from experience, and adapt to new inputs without explicit programming for each scenario.  AI is transforming industries by automating repetitive tasks, improving accuracy, and unlocking new possibilities in healthcare, finance, education, and more. For example, AI helps doctors detect diseases earlier through medical imaging analysis, supports businesses with predictive analytics, and powers personal assistants like Siri and Alexa. While AI brings many benefits, it also raises ethical concerns about privacy, job displacement, and decision-making transparency. As AI continues to evolve, it’s important to develop it responsibly and ensure its use benefits society as a whole.\n",
            "\n",
            "--- Summary (2 sentences) ---\n",
            "\n",
            "These systems can perform tasks such as recognizing speech, translating languages, identifying patterns, and even driving cars.\n",
            "While AI brings many benefits, it also raises ethical concerns about privacy, job displacement, and decision-making transparency.\n",
            "\n",
            "--- Original Text ---\n",
            "\n",
            "Artificial Intelligence (AI) refers to the simulation of human intelligence in machines that are programmed to think, learn, and make decisions. These systems can perform tasks such as recognizing speech, translating languages, identifying patterns, and even driving cars. AI is powered by various technologies like machine learning, deep learning, and natural language processing. It enables computers to analyze data, improve from experience, and adapt to new inputs without explicit programming for each scenario.  AI is transforming industries by automating repetitive tasks, improving accuracy, and unlocking new possibilities in healthcare, finance, education, and more. For example, AI helps doctors detect diseases earlier through medical imaging analysis, supports businesses with predictive analytics, and powers personal assistants like Siri and Alexa. While AI brings many benefits, it also raises ethical concerns about privacy, job displacement, and decision-making transparency. As AI continues to evolve, it’s important to develop it responsibly and ensure its use benefits society as a whole.\n",
            "\n",
            "--- Summary (2 sentences) ---\n",
            "\n",
            "These systems can perform tasks such as recognizing speech, translating languages, identifying patterns, and even driving cars.\n",
            "While AI brings many benefits, it also raises ethical concerns about privacy, job displacement, and decision-making transparency.\n"
          ]
        }
      ],
      "source": [
        "# Install necessary packages (uncomment if running for the first time)\n",
        "# !pip install nltk sumy\n",
        "\n",
        "# Import necessary libraries\n",
        "import nltk\n",
        "from sumy.parsers.plaintext import PlaintextParser\n",
        "from sumy.nlp.tokenizers import Tokenizer\n",
        "from sumy.summarizers.lsa import LsaSummarizer\n",
        "\n",
        "# Download the 'punkt' tokenizer data (correct one)\n",
        "nltk.download('punkt')  # not 'punkt_tab'\n",
        "\n",
        "# Function to summarize text\n",
        "def summarize_text(text, num_sentences=2):\n",
        "    parser = PlaintextParser.from_string(text, Tokenizer(\"english\"))\n",
        "    summarizer = LsaSummarizer()\n",
        "    summary = summarizer(parser.document, num_sentences)\n",
        "    return summary\n",
        "\n",
        "# Loop for repeated input\n",
        "while True:\n",
        "    # Get user input\n",
        "    text = input(\"\\nEnter the text to summarize (use \\\\n for paragraph breaks if needed):\\n\")\n",
        "\n",
        "    # Show original text\n",
        "    print(\"\\n--- Original Text ---\\n\")\n",
        "    print(text)\n",
        "\n",
        "    # Summarize and display output\n",
        "    print(\"\\n--- Summary (2 sentences) ---\\n\")\n",
        "    summary = summarize_text(text, 2)\n",
        "    for sentence in summary:\n",
        "        print(sentence)\n",
        "\n",
        "    # Ask if the user wants to summarize more text\n",
        "    again = input(\"\\nWould you like to summarize another text? (yes/no): \").strip().lower()\n",
        "    if again != 'yes':\n",
        "        print(\"Exiting summarizer. Goodbye!\")\n",
        "        break\n"
      ]
    }
  ],
  "metadata": {
    "colab": {
      "provenance": [],
      "authorship_tag": "ABX9TyPtl/Cb4TuQ4Dee9xvArSU0",
      "include_colab_link": true
    },
    "kernelspec": {
      "display_name": "Python 3",
      "name": "python3"
    },
    "language_info": {
      "name": "python"
    }
  },
  "nbformat": 4,
  "nbformat_minor": 0
}